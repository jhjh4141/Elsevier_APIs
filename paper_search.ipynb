{
 "cells": [
  {
   "cell_type": "code",
   "execution_count": 22,
   "id": "134a54e8",
   "metadata": {},
   "outputs": [],
   "source": [
    "import pandas as pd # allows us to work with tabular data\n",
    "import requests # to send the API requests to Elsevier\n",
    "import json # to read the JSON data that is returned by the APIs\n",
    "import pickle # pickle files are a good way to save data for reuse in Python\n",
    "from datetime import datetime"
   ]
  },
  {
   "cell_type": "code",
   "execution_count": 23,
   "id": "a52963fd",
   "metadata": {},
   "outputs": [],
   "source": [
    "api_key = 'your elsevier api key'"
   ]
  },
  {
   "cell_type": "code",
   "execution_count": 24,
   "id": "322b0065",
   "metadata": {},
   "outputs": [],
   "source": [
    "'''search parameters: add values to the dictionary key:value pairs below\n",
    "leave any fields that you don't want to use as either 0 or '''\n",
    "\n",
    "search_string_parameters = {\n",
    "    'ISSN' : '', # Limit results to results from a journal ISSN (add as a string). Leave = '' if no value.\n",
    "    'AUTHOR-NAME' : '', # Search the author name field. lastname, firstname. e.g., Noble, Safiya\n",
    "    'KEY' : '', # Add a keyword to search in the text of the article\n",
    "    'PUBLISHER' : '', # Add a publisher name. e.g., Springer\n",
    "    'EXACTSRCTITLE' : 'journal', # Add keywords that appear in the journal, book, or conference title. e.g., Informatics\n",
    "    'AFFIL' : '', # add keywords that appear in the author's institutional affiliation. e.g., to find the University of Minnesota, search for University and Minnesota\n",
    "    'TITLE' : 'Digital Twin', # Add keywords that appear in the article or chapter title. Can use AND, OR, and AND NOT. e.g. cat AND dog \n",
    "    'OPENACCESS' : '1', # Add 1 to limit your results to open access articles or 0 for articles that are not open access\n",
    "    'start_year' : 2013, # Limit your search to items published after this year. Leave = 0 if no value. YYYY , e.g., 1995\n",
    "    'end_year' : 2024 # Limit your search to items published before this year. Leave = 0 if no value. YYYY, e.g., 2020\n",
    "}\n",
    "def search_builder(search_string_parameters):\n",
    "    ''' Concatenates a search string query formatted for the Scopus Search API.\n",
    "    - search_string_parameters expects a python dictionary with keys aligned to API search fields.\n",
    "    '''\n",
    "    search_string = ''\n",
    "\n",
    "    for k,v in search_string_parameters.items():\n",
    "        if k == 'start_year' and v:\n",
    "            if search_string != '':\n",
    "                search_string += f' AND '\n",
    "            search_string += f'PUBYEAR > {v}'\n",
    "        elif k == 'end_year' and v:\n",
    "            if search_string != '':\n",
    "                search_string += f' AND '\n",
    "            search_string += f'PUBYEAR < {v}'\n",
    "        elif v:\n",
    "            if search_string != '':\n",
    "                search_string += f' AND '\n",
    "            search_string += f'{k}({v})'\n",
    "\n",
    "    return search_string\n",
    "\n",
    "def create_url(search_string):\n",
    "    '''Accepts a formatted search string that will be added to the Scopus Search API URL. \n",
    "    Requires a global api_key variable.\n",
    "    Formats and returns a URL to send to the Scopus Search API.'''\n",
    "    \n",
    "    query = f'{search_string}'\n",
    "    url_template = 'https://api.elsevier.com/content/search/scopus?query={query}&apiKey={api_key}'\n",
    "    full_url = url_template.format(query=query, api_key=api_key)\n",
    "    return full_url\n",
    "\n",
    "def connect_to_endpoint(full_url, params={'cursor': '*'}, next_ = '*'):\n",
    "    '''Accepts API URL with ISSN, default parameters, and next page cursor;\n",
    "    Sends request to Scopus API and collects JSON results for each call;\n",
    "    Returns r.json() for the ['search-results'] key.'''\n",
    "    \n",
    "    params['cursor'] = next_\n",
    "    r = requests.get(full_url, params=params)\n",
    "    r.raise_for_status()\n",
    "    return r.json()['search-results'], r.headers"
   ]
  },
  {
   "cell_type": "code",
   "execution_count": 25,
   "id": "956ff337",
   "metadata": {},
   "outputs": [
    {
     "name": "stdout",
     "output_type": "stream",
     "text": [
      "EXACTSRCTITLE(journal) AND TITLE(Digital Twin) AND OPENACCESS(1) AND PUBYEAR > 2013 AND PUBYEAR < 2024\n"
     ]
    }
   ],
   "source": [
    "search_string = search_builder(search_string_parameters)\n",
    "print(search_string)\n",
    "full_url = create_url(search_string)\n",
    "r_json, r_headers = connect_to_endpoint(full_url)"
   ]
  },
  {
   "cell_type": "code",
   "execution_count": 26,
   "id": "e7eb0a08",
   "metadata": {
    "scrolled": true
   },
   "outputs": [
    {
     "name": "stdout",
     "output_type": "stream",
     "text": [
      "Title: Internet of Things and Digital Twin Technology-Based Management System of Medical Equipment \n",
      "Creator: Liu W. \n",
      "Publication: Global Clinical Engineering Journal \n",
      "Date: 2023-12-10 \n",
      "ISSN: 25782762 \n",
      "DOI: 10.31354/globalce.v6i1.164 \n",
      "Abstract {'@_fa': 'true', 'link': [{'@_fa': 'true', '@ref': 'self', '@href': 'https://api.elsevier.com/content/abstract/scopus_id/85179342788'}, {'@_fa': 'true', '@ref': 'author-affiliation', '@href': 'https://api.elsevier.com/content/abstract/scopus_id/85179342788?field=author,affiliation'}, {'@_fa': 'true', '@ref': 'scopus', '@href': 'https://www.scopus.com/inward/record.uri?partnerID=HzOxMe3b&scp=85179342788&origin=inward'}, {'@_fa': 'true', '@ref': 'scopus-citedby', '@href': 'https://www.scopus.com/inward/citedby.uri?partnerID=HzOxMe3b&scp=85179342788&origin=inward'}], 'prism:url': 'https://api.elsevier.com/content/abstract/scopus_id/85179342788', 'dc:identifier': 'SCOPUS_ID:85179342788', 'eid': '2-s2.0-85179342788', 'dc:title': 'Internet of Things and Digital Twin Technology-Based Management System of Medical Equipment', 'dc:creator': 'Liu W.', 'prism:publicationName': 'Global Clinical Engineering Journal', 'prism:eIssn': '25782762', 'prism:volume': '6', 'prism:issueIdentifier': '1', 'prism:pageRange': '46-53', 'prism:coverDate': '2023-12-10', 'prism:coverDisplayDate': '10 December 2023', 'prism:doi': '10.31354/globalce.v6i1.164', 'citedby-count': '0', 'affiliation': [{'@_fa': 'true', 'affilname': \"Shanghai Sixth People's Hospital\", 'affiliation-city': 'Shanghai', 'affiliation-country': 'China'}], 'prism:aggregationType': 'Journal', 'subtype': 'ar', 'subtypeDescription': 'Article', 'source-id': '21101169188', 'openaccess': '1', 'openaccessFlag': True, 'freetoread': {'value': [{'$': 'all'}, {'$': 'publisherhybridgold'}]}, 'freetoreadLabel': {'value': [{'$': 'All Open Access'}, {'$': 'Hybrid Gold'}]}}\n"
     ]
    }
   ],
   "source": [
    "print('Title:', r_json['entry'][0]['dc:title'], \n",
    "        '\\nCreator:', r_json['entry'][0]['dc:creator'], \n",
    "        '\\nPublication:', r_json['entry'][0]['prism:publicationName'],\n",
    "        '\\nDate:', r_json['entry'][0]['prism:coverDate'],\n",
    "        '\\nISSN:', r_json['entry'][0]['prism:eIssn'], \n",
    "        '\\nDOI:', r_json['entry'][0]['prism:doi'],\n",
    "        '\\nAbstract', r_json['entry'][0])"
   ]
  },
  {
   "cell_type": "code",
   "execution_count": 27,
   "id": "18d57cf3",
   "metadata": {},
   "outputs": [
    {
     "name": "stdout",
     "output_type": "stream",
     "text": [
      "10.31354/globalce.v6i1.164\n"
     ]
    }
   ],
   "source": [
    "dois = [entry.get('prism:doi') for entry in r_json.get('entry', [])]\n",
    "print(dois[0])"
   ]
  },
  {
   "cell_type": "code",
   "execution_count": 28,
   "id": "b0ecde1e",
   "metadata": {},
   "outputs": [],
   "source": [
    "def create_url(doi):\n",
    "    \"\"\"Accepts a DOI as a string that will be added to the Abstract Retrieval API URL. \n",
    "    Requires a global api_key variable.\n",
    "    Formats and returns a URL to send to the Abstract Retrieval API.\n",
    "    \"\"\"\n",
    "    doi = f'{doi}'\n",
    "    url_template = 'https://api.elsevier.com/content/abstract/doi/{doi}?&apiKey={api_key}'\n",
    "    full_url = url_template.format(doi=doi, api_key=api_key)\n",
    "    return full_url\n",
    "\n",
    "def connect_to_endpoint(full_url):\n",
    "    '''Input full_url from create_url function;\n",
    "    Send request to Scopus Abstract Retrieval API\n",
    "    Returns r.json response;'''\n",
    "    \n",
    "    r = requests.get(full_url, headers =  {'Accept': 'application/json'})\n",
    "    r.raise_for_status()\n",
    "    return r.json(), r.headers"
   ]
  },
  {
   "cell_type": "code",
   "execution_count": 29,
   "id": "da53ce6e",
   "metadata": {},
   "outputs": [],
   "source": [
    "full_url = create_url(dois[0])"
   ]
  },
  {
   "cell_type": "code",
   "execution_count": 30,
   "id": "41d809ce",
   "metadata": {
    "scrolled": false
   },
   "outputs": [
    {
     "name": "stdout",
     "output_type": "stream",
     "text": [
      "Background: In recent years medical technology has progressed with the rapid development of medical services and required optimization of medical equipment. However, a lack of effective management methods has led to the inefficient use of medical equipment. Therefore, an effective medical equipment management mode is urgently needed to address these problems and challenges. Methods: The Internet of Things and digital twin technology are applied to intelligent medical equipment management as the current standard of medical equipment management. Results: The intelligent perception terminal can realize the dynamic acquisition of real data, such as the location, process, and efficient use of medical equipment, and help carry out digital, networked, and intelligent monitoring and analysis. Meanwhile, applications such as dynamic management software, real-time positioning software, and space-environment quality monitoring software are being developed. Conclusion: Automatic, intelligent, and visual management of medical equipment configurations, operations, and performance evaluation, combined with good management based on digital twinning, can improve collaborative management efficiency and operation resource support.\n"
     ]
    }
   ],
   "source": [
    "r_json, r_headers = connect_to_endpoint(full_url)\n",
    "r_json = r_json['abstracts-retrieval-response']\n",
    "print(r_json['coredata']['dc:description'])"
   ]
  },
  {
   "cell_type": "code",
   "execution_count": 31,
   "id": "7e289669",
   "metadata": {},
   "outputs": [],
   "source": [
    "from langchain_community.chat_models import ChatOpenAI"
   ]
  },
  {
   "cell_type": "code",
   "execution_count": 32,
   "id": "35dd0315",
   "metadata": {
    "scrolled": true
   },
   "outputs": [],
   "source": [
    "chat_model = ChatOpenAI(openai_api_key=\"your openai api key\")"
   ]
  },
  {
   "cell_type": "code",
   "execution_count": 33,
   "id": "62125455",
   "metadata": {
    "scrolled": true
   },
   "outputs": [
    {
     "name": "stdout",
     "output_type": "stream",
     "text": [
      "최근 의료기술의 발전으로 의료서비스가 급속히 발전하고 의료장비의 최적화가 필요하게 되었습니다. 그러나 효과적인 관리 방법의 부족으로 의료장비의 비효율적인 사용이 발생하고 있습니다. 따라서 이러한 문제와 도전에 대응하기 위해 효과적인 의료장비 관리 모드가 절실히 필요합니다. 이 연구에서는 사물인터넷과 디지털 트윈 기술을 의료장비 관리의 현재 표준으로 삼아 지능형 의료장비 관리에 적용하였습니다. 연구 결과로는 지능형 인지 단말기를 통해 의료장비의 위치, 공정, 효율적인 사용 등의 실시간 데이터 수집이 가능해지며, 디지털화, 네트워크화, 지능화된 모니터링 및 분석이 가능해집니다. 동시에 동적 관리 소프트웨어, 실시간 위치 추적 소프트웨어 및 공간 환경 품질 모니터링 소프트웨어 등의 응용 프로그램이 개발되고 있습니다. 결론적으로 디지털 트윈을 기반으로 한 의료장비 구성, 운영 및 성능 평가의 자동화, 지능화 및 시각화된 관리는 협업적인 관리 효율과 운영 리소스 지원을 개선할 수 있습니다.\n"
     ]
    }
   ],
   "source": [
    "abstract = r_json['coredata']['dc:description']\n",
    "result = chat_model.predict(abstract + \" 이 내용을 250자 내외로 요약해줘\")\n",
    "print(result)"
   ]
  },
  {
   "cell_type": "code",
   "execution_count": 34,
   "id": "c28394b0",
   "metadata": {},
   "outputs": [],
   "source": [
    "from openai import OpenAI"
   ]
  },
  {
   "cell_type": "code",
   "execution_count": 35,
   "id": "727ea14e",
   "metadata": {},
   "outputs": [
    {
     "name": "stdout",
     "output_type": "stream",
     "text": [
      "https://oaidalleapiprodscus.blob.core.windows.net/private/org-Uq2LWMd90SmdTeriwBNEBnCy/user-MeAjquxmeL8IJoFSwXdOdKtU/img-jeFmdbkbYO79T7Kv6UGJccs7.png?st=2024-01-16T03%3A21%3A53Z&se=2024-01-16T05%3A21%3A53Z&sp=r&sv=2021-08-06&sr=b&rscd=inline&rsct=image/png&skoid=6aaadede-4fb3-4698-a8f6-684d7786b067&sktid=a48cca56-e6da-484e-a814-9c849652bcb3&skt=2024-01-16T04%3A09%3A30Z&ske=2024-01-17T04%3A09%3A30Z&sks=b&skv=2021-08-06&sig=Be9G14UNvBYsJb4chFZwiIE/7Dxw7nVTvmPM3PvZ7Pk%3D\n"
     ]
    }
   ],
   "source": [
    "client = OpenAI(api_key=\"your openai api key\")\n",
    "\n",
    "response = client.images.generate(\n",
    "    model=\"dall-e-3\",\n",
    "    prompt=result,\n",
    "    size=\"1024x1024\",\n",
    "    quality=\"standard\",\n",
    "    n=1,\n",
    ")\n",
    "\n",
    "image_url = response.data[0].url\n",
    "print(image_url)"
   ]
  }
 ],
 "metadata": {
  "kernelspec": {
   "display_name": "Python 3 (ipykernel)",
   "language": "python",
   "name": "python3"
  },
  "language_info": {
   "codemirror_mode": {
    "name": "ipython",
    "version": 3
   },
   "file_extension": ".py",
   "mimetype": "text/x-python",
   "name": "python",
   "nbconvert_exporter": "python",
   "pygments_lexer": "ipython3",
   "version": "3.11.5"
  }
 },
 "nbformat": 4,
 "nbformat_minor": 5
}
