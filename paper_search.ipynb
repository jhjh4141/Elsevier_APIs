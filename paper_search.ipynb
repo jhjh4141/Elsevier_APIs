{
 "cells": [
  {
   "cell_type": "code",
   "execution_count": 1,
   "id": "134a54e8",
   "metadata": {},
   "outputs": [],
   "source": [
    "import pandas as pd # allows us to work with tabular data\n",
    "import requests # to send the API requests to Elsevier\n",
    "import json # to read the JSON data that is returned by the APIs\n",
    "import pickle # pickle files are a good way to save data for reuse in Python\n",
    "from datetime import datetime"
   ]
  },
  {
   "cell_type": "code",
   "execution_count": 2,
   "id": "a52963fd",
   "metadata": {},
   "outputs": [],
   "source": [
    "api_key = 'your api key'"
   ]
  },
  {
   "cell_type": "code",
   "execution_count": 3,
   "id": "322b0065",
   "metadata": {},
   "outputs": [],
   "source": [
    "'''search parameters: add values to the dictionary key:value pairs below\n",
    "leave any fields that you don't want to use as either 0 or '''\n",
    "\n",
    "search_string_parameters = {\n",
    "    'ISSN' : '', # Limit results to results from a journal ISSN (add as a string). Leave = '' if no value.\n",
    "    'AUTHOR-NAME' : '', # Search the author name field. lastname, firstname. e.g., Noble, Safiya\n",
    "    'KEY' : '', # Add a keyword to search in the text of the article\n",
    "    'PUBLISHER' : '', # Add a publisher name. e.g., Springer\n",
    "    'EXACTSRCTITLE' : 'journal', # Add keywords that appear in the journal, book, or conference title. e.g., Informatics\n",
    "    'AFFIL' : '', # add keywords that appear in the author's institutional affiliation. e.g., to find the University of Minnesota, search for University and Minnesota\n",
    "    'TITLE' : '6G', # Add keywords that appear in the article or chapter title. Can use AND, OR, and AND NOT. e.g. cat AND dog \n",
    "    'OPENACCESS' : '1', # Add 1 to limit your results to open access articles or 0 for articles that are not open access\n",
    "    'start_year' : 2013, # Limit your search to items published after this year. Leave = 0 if no value. YYYY , e.g., 1995\n",
    "    'end_year' : 2024 # Limit your search to items published before this year. Leave = 0 if no value. YYYY, e.g., 2020\n",
    "}\n",
    "def search_builder(search_string_parameters):\n",
    "    ''' Concatenates a search string query formatted for the Scopus Search API.\n",
    "    - search_string_parameters expects a python dictionary with keys aligned to API search fields.\n",
    "    '''\n",
    "    search_string = ''\n",
    "\n",
    "    for k,v in search_string_parameters.items():\n",
    "        if k == 'start_year' and v:\n",
    "            if search_string != '':\n",
    "                search_string += f' AND '\n",
    "            search_string += f'PUBYEAR > {v}'\n",
    "        elif k == 'end_year' and v:\n",
    "            if search_string != '':\n",
    "                search_string += f' AND '\n",
    "            search_string += f'PUBYEAR < {v}'\n",
    "        elif v:\n",
    "            if search_string != '':\n",
    "                search_string += f' AND '\n",
    "            search_string += f'{k}({v})'\n",
    "\n",
    "    return search_string\n",
    "\n",
    "def create_url(search_string):\n",
    "    '''Accepts a formatted search string that will be added to the Scopus Search API URL. \n",
    "    Requires a global api_key variable.\n",
    "    Formats and returns a URL to send to the Scopus Search API.'''\n",
    "    \n",
    "    query = f'{search_string}'\n",
    "    url_template = 'https://api.elsevier.com/content/search/scopus?query={query}&apiKey={api_key}'\n",
    "    full_url = url_template.format(query=query, api_key=api_key)\n",
    "    return full_url\n",
    "\n",
    "def connect_to_endpoint(full_url, params={'cursor': '*'}, next_ = '*'):\n",
    "    '''Accepts API URL with ISSN, default parameters, and next page cursor;\n",
    "    Sends request to Scopus API and collects JSON results for each call;\n",
    "    Returns r.json() for the ['search-results'] key.'''\n",
    "    \n",
    "    params['cursor'] = next_\n",
    "    r = requests.get(full_url, params=params)\n",
    "    r.raise_for_status()\n",
    "    return r.json()['search-results'], r.headers"
   ]
  },
  {
   "cell_type": "code",
   "execution_count": 4,
   "id": "956ff337",
   "metadata": {},
   "outputs": [
    {
     "name": "stdout",
     "output_type": "stream",
     "text": [
      "EXACTSRCTITLE(journal) AND TITLE(6G) AND OPENACCESS(1) AND PUBYEAR > 2013 AND PUBYEAR < 2024\n"
     ]
    }
   ],
   "source": [
    "search_string = search_builder(search_string_parameters)\n",
    "print(search_string)\n",
    "full_url = create_url(search_string)\n",
    "r_json, r_headers = connect_to_endpoint(full_url)"
   ]
  },
  {
   "cell_type": "code",
   "execution_count": 5,
   "id": "e7eb0a08",
   "metadata": {
    "scrolled": true
   },
   "outputs": [
    {
     "name": "stdout",
     "output_type": "stream",
     "text": [
      "Title: Electric Vehicles Energy Management for Vehicle-to-Grid 6G-Based Smart Grid Networks \n",
      "Creator: Naja R. \n",
      "Publication: Journal of Sensor and Actuator Networks \n",
      "Date: 2023-12-01 \n",
      "ISSN: 22242708 \n",
      "DOI: 10.3390/jsan12060079 \n",
      "Abstract {'@_fa': 'true', 'link': [{'@_fa': 'true', '@ref': 'self', '@href': 'https://api.elsevier.com/content/abstract/scopus_id/85180644256'}, {'@_fa': 'true', '@ref': 'author-affiliation', '@href': 'https://api.elsevier.com/content/abstract/scopus_id/85180644256?field=author,affiliation'}, {'@_fa': 'true', '@ref': 'scopus', '@href': 'https://www.scopus.com/inward/record.uri?partnerID=HzOxMe3b&scp=85180644256&origin=inward'}, {'@_fa': 'true', '@ref': 'scopus-citedby', '@href': 'https://www.scopus.com/inward/citedby.uri?partnerID=HzOxMe3b&scp=85180644256&origin=inward'}], 'prism:url': 'https://api.elsevier.com/content/abstract/scopus_id/85180644256', 'dc:identifier': 'SCOPUS_ID:85180644256', 'eid': '2-s2.0-85180644256', 'dc:title': 'Electric Vehicles Energy Management for Vehicle-to-Grid 6G-Based Smart Grid Networks', 'dc:creator': 'Naja R.', 'prism:publicationName': 'Journal of Sensor and Actuator Networks', 'prism:eIssn': '22242708', 'prism:volume': '12', 'prism:issueIdentifier': '6', 'prism:pageRange': None, 'prism:coverDate': '2023-12-01', 'prism:coverDisplayDate': 'December 2023', 'prism:doi': '10.3390/jsan12060079', 'citedby-count': '0', 'affiliation': [{'@_fa': 'true', 'affilname': 'Laboratoire d’informatique Parallélisme Réseaux Algorithmes Distribués', 'affiliation-city': 'Versailles', 'affiliation-country': 'France'}, {'@_fa': 'true', 'affilname': \"Ecole Centrale d'Electronique ECE Paris\", 'affiliation-city': 'Paris', 'affiliation-country': 'France'}], 'prism:aggregationType': 'Journal', 'subtype': 'ar', 'subtypeDescription': 'Article', 'article-number': '79', 'source-id': '21100830709', 'openaccess': '1', 'openaccessFlag': True, 'freetoread': {'value': [{'$': 'all'}, {'$': 'publisherfullgold'}]}, 'freetoreadLabel': {'value': [{'$': 'All Open Access'}, {'$': 'Gold'}]}}\n"
     ]
    }
   ],
   "source": [
    "print('Title:', r_json['entry'][0]['dc:title'], \n",
    "        '\\nCreator:', r_json['entry'][0]['dc:creator'], \n",
    "        '\\nPublication:', r_json['entry'][0]['prism:publicationName'],\n",
    "        '\\nDate:', r_json['entry'][0]['prism:coverDate'],\n",
    "        '\\nISSN:', r_json['entry'][0]['prism:eIssn'], \n",
    "        '\\nDOI:', r_json['entry'][0]['prism:doi'],\n",
    "        '\\nAbstract', r_json['entry'][0])"
   ]
  },
  {
   "cell_type": "code",
   "execution_count": 6,
   "id": "18d57cf3",
   "metadata": {},
   "outputs": [
    {
     "name": "stdout",
     "output_type": "stream",
     "text": [
      "10.3390/jsan12060079\n"
     ]
    }
   ],
   "source": [
    "dois = [entry.get('prism:doi') for entry in r_json.get('entry', [])]\n",
    "print(dois[0])"
   ]
  },
  {
   "cell_type": "code",
   "execution_count": 7,
   "id": "b0ecde1e",
   "metadata": {},
   "outputs": [],
   "source": [
    "def create_url(doi):\n",
    "    \"\"\"Accepts a DOI as a string that will be added to the Abstract Retrieval API URL. \n",
    "    Requires a global api_key variable.\n",
    "    Formats and returns a URL to send to the Abstract Retrieval API.\n",
    "    \"\"\"\n",
    "    doi = f'{doi}'\n",
    "    url_template = 'https://api.elsevier.com/content/abstract/doi/{doi}?&apiKey={api_key}'\n",
    "    full_url = url_template.format(doi=doi, api_key=api_key)\n",
    "    return full_url\n",
    "\n",
    "def connect_to_endpoint(full_url):\n",
    "    '''Input full_url from create_url function;\n",
    "    Send request to Scopus Abstract Retrieval API\n",
    "    Returns r.json response;'''\n",
    "    \n",
    "    r = requests.get(full_url, headers =  {'Accept': 'application/json'})\n",
    "    r.raise_for_status()\n",
    "    return r.json(), r.headers"
   ]
  },
  {
   "cell_type": "code",
   "execution_count": 8,
   "id": "da53ce6e",
   "metadata": {},
   "outputs": [],
   "source": [
    "full_url = create_url(dois[0])"
   ]
  },
  {
   "cell_type": "code",
   "execution_count": 9,
   "id": "41d809ce",
   "metadata": {
    "scrolled": false
   },
   "outputs": [
    {
     "name": "stdout",
     "output_type": "stream",
     "text": [
      "This research proposes a unique platform for energy management optimization in smart grids, based on 6G technologies. The proposed platform, applied on a virtual power plant, includes algorithms that take into account different profiles of loads and fairly schedules energy according to loads priorities and compensates for the intermittent nature of renewable energy sources. Moreover, we develop a bidirectional energy transition mechanism towards a fleet of intelligent vehicles by adopting vehicle-to-grid technology and peak clipping. Performance analysis shows that the proposed energy provides fairness to electrical vehicles, satisfies urgent loads, and optimizes smart grids energy.\n"
     ]
    }
   ],
   "source": [
    "r_json, r_headers = connect_to_endpoint(full_url)\n",
    "r_json = r_json['abstracts-retrieval-response']\n",
    "print(r_json['coredata']['dc:description'])"
   ]
  },
  {
   "cell_type": "code",
   "execution_count": 10,
   "id": "7e289669",
   "metadata": {},
   "outputs": [],
   "source": [
    "from langchain_community.chat_models import ChatOpenAI"
   ]
  },
  {
   "cell_type": "code",
   "execution_count": 11,
   "id": "35dd0315",
   "metadata": {
    "scrolled": true
   },
   "outputs": [
    {
     "name": "stderr",
     "output_type": "stream",
     "text": [
      "C:\\Users\\user\\anaconda3\\Lib\\site-packages\\langchain_core\\_api\\deprecation.py:115: LangChainDeprecationWarning: The class `ChatOpenAI` was deprecated in LangChain 0.1.0 and will be removed in 0.2.0. Use langchain_openai.ChatOpenAI instead.\n",
      "  warn_deprecated(\n"
     ]
    }
   ],
   "source": [
    "chat_model = ChatOpenAI(openai_api_key=\"your_openai_api_key\")"
   ]
  },
  {
   "cell_type": "code",
   "execution_count": 12,
   "id": "62125455",
   "metadata": {
    "scrolled": true
   },
   "outputs": [
    {
     "name": "stderr",
     "output_type": "stream",
     "text": [
      "C:\\Users\\user\\anaconda3\\Lib\\site-packages\\langchain_core\\_api\\deprecation.py:115: LangChainDeprecationWarning: The function `predict` was deprecated in LangChain 0.1.7 and will be removed in 0.2.0. Use invoke instead.\n",
      "  warn_deprecated(\n"
     ]
    },
    {
     "name": "stdout",
     "output_type": "stream",
     "text": [
      "이 연구는 6G 기술을 기반으로 한 스마트 그리드의 에너지 관리 최적화를 위한 독특한 플랫폼을 제안한다. 가상 발전소에 적용된 이 플랫폼은 다양한 부하 프로파일을 고려하는 알고리즘을 포함하며, 부하 우선순위에 따라 에너지를 공정하게 일정하게 하고 재생 에너지의 간헐적인 특성을 보상한다. 게다가, 우리는 차량간 그리드 기술과 피크 클리핑을 채택하여 지능형 차량의 플리트를 대상으로 양방향 에너지 전환 메커니즘을 개발한다. 성능 분석 결과, 제안된 에너지는 전기 차량에 공정성을 제공하고 긴급한 부하를 충족시키며 스마트 그리드 에너지를 최적화한다.\n"
     ]
    }
   ],
   "source": [
    "abstract = r_json['coredata']['dc:description']\n",
    "result = chat_model.predict(abstract + \" 이 내용을 250자 내외로 요약해줘\")\n",
    "print(result)"
   ]
  }
 ],
 "metadata": {
  "kernelspec": {
   "display_name": "Python 3 (ipykernel)",
   "language": "python",
   "name": "python3"
  },
  "language_info": {
   "codemirror_mode": {
    "name": "ipython",
    "version": 3
   },
   "file_extension": ".py",
   "mimetype": "text/x-python",
   "name": "python",
   "nbconvert_exporter": "python",
   "pygments_lexer": "ipython3",
   "version": "3.11.5"
  }
 },
 "nbformat": 4,
 "nbformat_minor": 5
}
