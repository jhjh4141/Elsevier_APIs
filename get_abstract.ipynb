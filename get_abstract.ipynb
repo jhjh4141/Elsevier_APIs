{
 "cells": [
  {
   "cell_type": "code",
   "execution_count": 1,
   "id": "4a91e252",
   "metadata": {},
   "outputs": [],
   "source": [
    "import pandas as pd # allows us to work with tabular data\n",
    "import requests # to send the API requests to Elsevier\n",
    "import json # to read the JSON data that is returned by the APIs\n",
    "import pickle # pickle files are a good way to save data for reuse in Python\n",
    "from datetime import datetime"
   ]
  },
  {
   "cell_type": "code",
   "execution_count": 2,
   "id": "d124b7c4",
   "metadata": {},
   "outputs": [],
   "source": [
    "api_key = 'your api key'"
   ]
  },
  {
   "cell_type": "code",
   "execution_count": 3,
   "id": "34d1e1b3",
   "metadata": {},
   "outputs": [],
   "source": [
    "'''search parameters: add values to the dictionary key:value pairs below\n",
    "leave any fields that you don't want to use as either 0 or '''\n",
    "\n",
    "search_string_parameters = {\n",
    "    'ISSN' : '', # Limit results to results from a journal ISSN (add as a string). Leave = '' if no value.\n",
    "    'AUTHOR-NAME' : '', # Search the author name field. lastname, firstname. e.g., Noble, Safiya\n",
    "    'KEY' : '', # Add a keyword to search in the text of the article\n",
    "    'PUBLISHER' : '', # Add a publisher name. e.g., Springer\n",
    "    'EXACTSRCTITLE' : 'journal', # Add keywords that appear in the journal, book, or conference title. e.g., Informatics\n",
    "    'AFFIL' : '', # add keywords that appear in the author's institutional affiliation. e.g., to find the University of Minnesota, search for University and Minnesota\n",
    "    'TITLE' : '5G', # Add keywords that appear in the article or chapter title. Can use AND, OR, and AND NOT. e.g. cat AND dog \n",
    "    'OPENACCESS' : '1', # Add 1 to limit your results to open access articles or 0 for articles that are not open access\n",
    "    'start_year' : 2013, # Limit your search to items published after this year. Leave = 0 if no value. YYYY , e.g., 1995\n",
    "    'end_year' : 2024 # Limit your search to items published before this year. Leave = 0 if no value. YYYY, e.g., 2020\n",
    "}\n",
    "def search_builder(search_string_parameters):\n",
    "    ''' Concatenates a search string query formatted for the Scopus Search API.\n",
    "    - search_string_parameters expects a python dictionary with keys aligned to API search fields.\n",
    "    '''\n",
    "    search_string = ''\n",
    "\n",
    "    for k,v in search_string_parameters.items():\n",
    "        if k == 'start_year' and v:\n",
    "            if search_string != '':\n",
    "                search_string += f' AND '\n",
    "            search_string += f'PUBYEAR > {v}'\n",
    "        elif k == 'end_year' and v:\n",
    "            if search_string != '':\n",
    "                search_string += f' AND '\n",
    "            search_string += f'PUBYEAR < {v}'\n",
    "        elif v:\n",
    "            if search_string != '':\n",
    "                search_string += f' AND '\n",
    "            search_string += f'{k}({v})'\n",
    "\n",
    "    return search_string\n",
    "\n",
    "def create_url(search_string):\n",
    "    '''Accepts a formatted search string that will be added to the Scopus Search API URL. \n",
    "    Requires a global api_key variable.\n",
    "    Formats and returns a URL to send to the Scopus Search API.'''\n",
    "    \n",
    "    query = f'{search_string}'\n",
    "    url_template = 'https://api.elsevier.com/content/search/scopus?query={query}&apiKey={api_key}'\n",
    "    full_url = url_template.format(query=query, api_key=api_key)\n",
    "    return full_url\n",
    "\n",
    "def connect_to_endpoint(full_url, params={'cursor': '*'}, next_ = '*'):\n",
    "    '''Accepts API URL with ISSN, default parameters, and next page cursor;\n",
    "    Sends request to Scopus API and collects JSON results for each call;\n",
    "    Returns r.json() for the ['search-results'] key.'''\n",
    "    \n",
    "    params['cursor'] = next_\n",
    "    r = requests.get(full_url, params=params)\n",
    "    r.raise_for_status()\n",
    "    return r.json()['search-results'], r.headers"
   ]
  },
  {
   "cell_type": "code",
   "execution_count": 4,
   "id": "2dfb4a82",
   "metadata": {},
   "outputs": [
    {
     "name": "stdout",
     "output_type": "stream",
     "text": [
      "EXACTSRCTITLE(journal) AND TITLE(5G) AND OPENACCESS(1) AND PUBYEAR > 2013 AND PUBYEAR < 2024\n"
     ]
    }
   ],
   "source": [
    "search_string = search_builder(search_string_parameters)\n",
    "print(search_string)\n",
    "full_url = create_url(search_string)\n",
    "r_json, r_headers = connect_to_endpoint(full_url)"
   ]
  },
  {
   "cell_type": "markdown",
   "id": "1d0a7e56",
   "metadata": {},
   "source": [
    "### 검색 결과 중 첫번째 논문만 가져오자"
   ]
  },
  {
   "cell_type": "code",
   "execution_count": 6,
   "id": "7da9ab80",
   "metadata": {},
   "outputs": [
    {
     "name": "stdout",
     "output_type": "stream",
     "text": [
      "Title: Area Efficient and Linear MMIC Based Ka Band Power Amplifier for 5G Communication Systems \n",
      "Creator: Agarwal D. \n",
      "Publication: Journal of Integrated Circuits and Systems \n",
      "Date: 2023-12-28 \n",
      "ISSN: 18720234 \n",
      "DOI: 10.29292/jics.v18i3.727\n"
     ]
    }
   ],
   "source": [
    "print('Title:', r_json['entry'][0]['dc:title'], \n",
    "      '\\nCreator:', r_json['entry'][0]['dc:creator'], \n",
    "      '\\nPublication:', r_json['entry'][0]['prism:publicationName'],\n",
    "      '\\nDate:', r_json['entry'][0]['prism:coverDate'],\n",
    "      '\\nISSN:', r_json['entry'][0]['prism:eIssn'], \n",
    "      '\\nDOI:', r_json['entry'][0]['prism:doi'])"
   ]
  },
  {
   "cell_type": "code",
   "execution_count": 7,
   "id": "be7ea418",
   "metadata": {},
   "outputs": [
    {
     "name": "stdout",
     "output_type": "stream",
     "text": [
      "10.29292/jics.v18i3.727\n"
     ]
    }
   ],
   "source": [
    "dois = [entry.get('prism:doi') for entry in r_json.get('entry', [])]\n",
    "print(dois[0])"
   ]
  },
  {
   "cell_type": "markdown",
   "id": "5d0f97af",
   "metadata": {},
   "source": [
    "### 추출된 doi를 이용해 abstract을 가져와보자"
   ]
  },
  {
   "cell_type": "code",
   "execution_count": 8,
   "id": "5d38dc59",
   "metadata": {},
   "outputs": [],
   "source": [
    "def create_url(doi):\n",
    "    \"\"\"Accepts a DOI as a string that will be added to the Abstract Retrieval API URL. \n",
    "    Requires a global api_key variable.\n",
    "    Formats and returns a URL to send to the Abstract Retrieval API.\n",
    "    \"\"\"\n",
    "    doi = f'{doi}'\n",
    "    url_template = 'https://api.elsevier.com/content/abstract/doi/{doi}?&apiKey={api_key}'\n",
    "    full_url = url_template.format(doi=doi, api_key=api_key)\n",
    "    return full_url\n",
    "\n",
    "def connect_to_endpoint(full_url):\n",
    "    '''Input full_url from create_url function;\n",
    "    Send request to Scopus Abstract Retrieval API\n",
    "    Returns r.json response;'''\n",
    "    \n",
    "    r = requests.get(full_url, headers =  {'Accept': 'application/json'})\n",
    "    r.raise_for_status()\n",
    "    return r.json(), r.headers"
   ]
  },
  {
   "cell_type": "code",
   "execution_count": 9,
   "id": "ab3a2f15",
   "metadata": {},
   "outputs": [],
   "source": [
    "full_url = create_url(dois[0])"
   ]
  },
  {
   "cell_type": "code",
   "execution_count": 10,
   "id": "060e71c2",
   "metadata": {},
   "outputs": [
    {
     "name": "stdout",
     "output_type": "stream",
     "text": [
      "This work presents a monolithic microwave integrated circuit (MMIC) based power amplifier (PA) with single 150 nm GaN high electron mobility transistor (HEMT) using broadband matching. For the proposed amplifier, two stage L-type biasing network is designed. In order to provide good linearity, low Q, broader bandwidth and optimized chip area, band pass filter (BPF) type matching network is proposed. The topology and parameter selection is done by performing proper load pull analysis. This helps in achieving wide band matching to maintain low Q factor. Thus the proposed amplifier is evaluated with post layout EM simulation data. For the 26 GHz band of 5G communication, proposed amplifier has a small signal gain of 11 dB for 21-27.4 GHz. The amplifier offers 33.42 dBm saturated output power and good linearity. The designed PA provides 31.35 dBm output power, 26% power added efficiency (PAE) and 29% drain efficiency (DE) at 1 dB com-pression with IP3 of 39.67 dBm for 26 GHz band. The designed PA has less complexity and small chip area of 4.3 mm2.\n"
     ]
    }
   ],
   "source": [
    "r_json, r_headers = connect_to_endpoint(full_url)\n",
    "r_json = r_json['abstracts-retrieval-response']\n",
    "print(r_json['coredata']['dc:description'])"
   ]
  }
 ],
 "metadata": {
  "kernelspec": {
   "display_name": "Python 3 (ipykernel)",
   "language": "python",
   "name": "python3"
  },
  "language_info": {
   "codemirror_mode": {
    "name": "ipython",
    "version": 3
   },
   "file_extension": ".py",
   "mimetype": "text/x-python",
   "name": "python",
   "nbconvert_exporter": "python",
   "pygments_lexer": "ipython3",
   "version": "3.11.5"
  }
 },
 "nbformat": 4,
 "nbformat_minor": 5
}
